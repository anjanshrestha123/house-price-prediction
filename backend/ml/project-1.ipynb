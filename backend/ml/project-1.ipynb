{
 "cells": [
  {
   "cell_type": "markdown",
   "metadata": {},
   "source": [
    "# House Price Prediction #\n",
    "Team Members: Anjan Shrestha, Balaji Mandava, Byanagari Rohith, Naresh Balla, Bhargav Ram Pushadapu\n",
    "\n",
    "Group Number: 8"
   ]
  },
  {
   "cell_type": "markdown",
   "metadata": {},
   "source": [
    "### Import and Packages ###"
   ]
  },
  {
   "cell_type": "code",
   "execution_count": 1,
   "metadata": {},
   "outputs": [],
   "source": [
    "import pandas as pd\n",
    "import datetime\n",
    "import matplotlib.pyplot as plt\n",
    "import pickle\n",
    "from sklearn.linear_model import LinearRegression\n",
    "import math\n",
    "from sklearn.metrics import mean_squared_error\n",
    "from sklearn import preprocessing"
   ]
  },
  {
   "cell_type": "markdown",
   "metadata": {},
   "source": [
    "##  1. Extract Raw dataset"
   ]
  },
  {
   "cell_type": "code",
   "execution_count": 2,
   "metadata": {
    "executionInfo": {
     "elapsed": 2132,
     "status": "ok",
     "timestamp": 1676048490825,
     "user": {
      "displayName": "Anjan Shrestha",
      "userId": "00071547376953792820"
     },
     "user_tz": 300
    },
    "id": "AWW_n2J1trzL"
   },
   "outputs": [],
   "source": [
    "# Read raw data from csv file that has been downloaded from zillow (https://www.zillow.com/research/data/)\n",
    "raw_df = pd.read_csv('./data/data.csv')"
   ]
  },
  {
   "cell_type": "code",
   "execution_count": 3,
   "metadata": {
    "executionInfo": {
     "elapsed": 4,
     "status": "ok",
     "timestamp": 1676048490825,
     "user": {
      "displayName": "Anjan Shrestha",
      "userId": "00071547376953792820"
     },
     "user_tz": 300
    },
    "id": "0Y_6LURGAQNM"
   },
   "outputs": [],
   "source": [
    "raw_df = raw_df.dropna()"
   ]
  },
  {
   "cell_type": "code",
   "execution_count": 4,
   "metadata": {
    "colab": {
     "base_uri": "https://localhost:8080/",
     "height": 490
    },
    "executionInfo": {
     "elapsed": 250,
     "status": "ok",
     "timestamp": 1676048491072,
     "user": {
      "displayName": "Anjan Shrestha",
      "userId": "00071547376953792820"
     },
     "user_tz": 300
    },
    "id": "5W_52AK3B1sk",
    "outputId": "09b4481f-b29e-4347-e621-d34920870a9f",
    "scrolled": true
   },
   "outputs": [
    {
     "data": {
      "text/html": [
       "<div>\n",
       "<style scoped>\n",
       "    .dataframe tbody tr th:only-of-type {\n",
       "        vertical-align: middle;\n",
       "    }\n",
       "\n",
       "    .dataframe tbody tr th {\n",
       "        vertical-align: top;\n",
       "    }\n",
       "\n",
       "    .dataframe thead th {\n",
       "        text-align: right;\n",
       "    }\n",
       "</style>\n",
       "<table border=\"1\" class=\"dataframe\">\n",
       "  <thead>\n",
       "    <tr style=\"text-align: right;\">\n",
       "      <th></th>\n",
       "      <th>RegionID</th>\n",
       "      <th>SizeRank</th>\n",
       "      <th>RegionName</th>\n",
       "      <th>RegionType</th>\n",
       "      <th>StateName</th>\n",
       "      <th>State</th>\n",
       "      <th>City</th>\n",
       "      <th>Metro</th>\n",
       "      <th>CountyName</th>\n",
       "      <th>2000-01-31</th>\n",
       "      <th>...</th>\n",
       "      <th>2022-03-31</th>\n",
       "      <th>2022-04-30</th>\n",
       "      <th>2022-05-31</th>\n",
       "      <th>2022-06-30</th>\n",
       "      <th>2022-07-31</th>\n",
       "      <th>2022-08-31</th>\n",
       "      <th>2022-09-30</th>\n",
       "      <th>2022-10-31</th>\n",
       "      <th>2022-11-30</th>\n",
       "      <th>2022-12-31</th>\n",
       "    </tr>\n",
       "  </thead>\n",
       "  <tbody>\n",
       "    <tr>\n",
       "      <th>27268</th>\n",
       "      <td>93402</td>\n",
       "      <td>30657</td>\n",
       "      <td>80453</td>\n",
       "      <td>zip</td>\n",
       "      <td>CO</td>\n",
       "      <td>CO</td>\n",
       "      <td>Idledale</td>\n",
       "      <td>Denver-Aurora-Lakewood, CO</td>\n",
       "      <td>Jefferson County</td>\n",
       "      <td>180688.0</td>\n",
       "      <td>...</td>\n",
       "      <td>641111.0</td>\n",
       "      <td>640020.0</td>\n",
       "      <td>633189.0</td>\n",
       "      <td>622345.0</td>\n",
       "      <td>617256.0</td>\n",
       "      <td>612584.0</td>\n",
       "      <td>606365.0</td>\n",
       "      <td>605751.0</td>\n",
       "      <td>605137.0</td>\n",
       "      <td>605741.0</td>\n",
       "    </tr>\n",
       "    <tr>\n",
       "      <th>27295</th>\n",
       "      <td>58873</td>\n",
       "      <td>30657</td>\n",
       "      <td>2722</td>\n",
       "      <td>zip</td>\n",
       "      <td>MA</td>\n",
       "      <td>MA</td>\n",
       "      <td>Fall River</td>\n",
       "      <td>Providence-Warwick, RI-MA</td>\n",
       "      <td>Bristol County</td>\n",
       "      <td>213275.0</td>\n",
       "      <td>...</td>\n",
       "      <td>521336.0</td>\n",
       "      <td>525717.0</td>\n",
       "      <td>530538.0</td>\n",
       "      <td>538192.0</td>\n",
       "      <td>540326.0</td>\n",
       "      <td>540236.0</td>\n",
       "      <td>536563.0</td>\n",
       "      <td>536228.0</td>\n",
       "      <td>536619.0</td>\n",
       "      <td>534176.0</td>\n",
       "    </tr>\n",
       "    <tr>\n",
       "      <th>27310</th>\n",
       "      <td>94938</td>\n",
       "      <td>30657</td>\n",
       "      <td>85362</td>\n",
       "      <td>zip</td>\n",
       "      <td>AZ</td>\n",
       "      <td>AZ</td>\n",
       "      <td>Yarnell</td>\n",
       "      <td>Prescott Valley-Prescott, AZ</td>\n",
       "      <td>Yavapai County</td>\n",
       "      <td>102905.0</td>\n",
       "      <td>...</td>\n",
       "      <td>238840.0</td>\n",
       "      <td>246532.0</td>\n",
       "      <td>252357.0</td>\n",
       "      <td>254239.0</td>\n",
       "      <td>255305.0</td>\n",
       "      <td>252321.0</td>\n",
       "      <td>250991.0</td>\n",
       "      <td>251880.0</td>\n",
       "      <td>254687.0</td>\n",
       "      <td>254301.0</td>\n",
       "    </tr>\n",
       "    <tr>\n",
       "      <th>27315</th>\n",
       "      <td>63622</td>\n",
       "      <td>30657</td>\n",
       "      <td>14592</td>\n",
       "      <td>zip</td>\n",
       "      <td>NY</td>\n",
       "      <td>NY</td>\n",
       "      <td>York</td>\n",
       "      <td>Rochester, NY</td>\n",
       "      <td>Livingston County</td>\n",
       "      <td>82666.0</td>\n",
       "      <td>...</td>\n",
       "      <td>164557.0</td>\n",
       "      <td>165695.0</td>\n",
       "      <td>168639.0</td>\n",
       "      <td>173041.0</td>\n",
       "      <td>177712.0</td>\n",
       "      <td>180050.0</td>\n",
       "      <td>181006.0</td>\n",
       "      <td>182709.0</td>\n",
       "      <td>184972.0</td>\n",
       "      <td>185200.0</td>\n",
       "    </tr>\n",
       "    <tr>\n",
       "      <th>27350</th>\n",
       "      <td>90041</td>\n",
       "      <td>30657</td>\n",
       "      <td>73491</td>\n",
       "      <td>zip</td>\n",
       "      <td>OK</td>\n",
       "      <td>OK</td>\n",
       "      <td>Velma</td>\n",
       "      <td>Duncan, OK</td>\n",
       "      <td>Stephens County</td>\n",
       "      <td>38409.0</td>\n",
       "      <td>...</td>\n",
       "      <td>95098.0</td>\n",
       "      <td>95633.0</td>\n",
       "      <td>95047.0</td>\n",
       "      <td>95401.0</td>\n",
       "      <td>95610.0</td>\n",
       "      <td>96806.0</td>\n",
       "      <td>97410.0</td>\n",
       "      <td>98084.0</td>\n",
       "      <td>98253.0</td>\n",
       "      <td>97800.0</td>\n",
       "    </tr>\n",
       "  </tbody>\n",
       "</table>\n",
       "<p>5 rows × 285 columns</p>\n",
       "</div>"
      ],
      "text/plain": [
       "       RegionID  SizeRank  RegionName RegionType StateName State        City  \\\n",
       "27268     93402     30657       80453        zip        CO    CO    Idledale   \n",
       "27295     58873     30657        2722        zip        MA    MA  Fall River   \n",
       "27310     94938     30657       85362        zip        AZ    AZ     Yarnell   \n",
       "27315     63622     30657       14592        zip        NY    NY        York   \n",
       "27350     90041     30657       73491        zip        OK    OK       Velma   \n",
       "\n",
       "                              Metro         CountyName  2000-01-31  ...  \\\n",
       "27268    Denver-Aurora-Lakewood, CO   Jefferson County    180688.0  ...   \n",
       "27295     Providence-Warwick, RI-MA     Bristol County    213275.0  ...   \n",
       "27310  Prescott Valley-Prescott, AZ     Yavapai County    102905.0  ...   \n",
       "27315                 Rochester, NY  Livingston County     82666.0  ...   \n",
       "27350                    Duncan, OK    Stephens County     38409.0  ...   \n",
       "\n",
       "       2022-03-31  2022-04-30  2022-05-31  2022-06-30  2022-07-31  2022-08-31  \\\n",
       "27268    641111.0    640020.0    633189.0    622345.0    617256.0    612584.0   \n",
       "27295    521336.0    525717.0    530538.0    538192.0    540326.0    540236.0   \n",
       "27310    238840.0    246532.0    252357.0    254239.0    255305.0    252321.0   \n",
       "27315    164557.0    165695.0    168639.0    173041.0    177712.0    180050.0   \n",
       "27350     95098.0     95633.0     95047.0     95401.0     95610.0     96806.0   \n",
       "\n",
       "       2022-09-30  2022-10-31  2022-11-30  2022-12-31  \n",
       "27268    606365.0    605751.0    605137.0    605741.0  \n",
       "27295    536563.0    536228.0    536619.0    534176.0  \n",
       "27310    250991.0    251880.0    254687.0    254301.0  \n",
       "27315    181006.0    182709.0    184972.0    185200.0  \n",
       "27350     97410.0     98084.0     98253.0     97800.0  \n",
       "\n",
       "[5 rows x 285 columns]"
      ]
     },
     "execution_count": 4,
     "metadata": {},
     "output_type": "execute_result"
    }
   ],
   "source": [
    "raw_df.tail(5)"
   ]
  },
  {
   "cell_type": "markdown",
   "metadata": {},
   "source": [
    "##  2. Cleaning raw dataset"
   ]
  },
  {
   "cell_type": "code",
   "execution_count": 5,
   "metadata": {
    "executionInfo": {
     "elapsed": 3,
     "status": "ok",
     "timestamp": 1676048491072,
     "user": {
      "displayName": "Anjan Shrestha",
      "userId": "00071547376953792820"
     },
     "user_tz": 300
    },
    "id": "IqpGygRzuYTD"
   },
   "outputs": [],
   "source": [
    "# Exported to output file named 'cleaned_data.csv' for efficiency\n",
    "def validate_date(date_text):\n",
    "        try:\n",
    "            datetime.datetime.strptime(date_text, '%Y-%m-%d')\n",
    "            return True\n",
    "        except ValueError:\n",
    "            return False\n",
    "\n",
    "# Make this flag to True only if cleaned csv file needs to be generated\n",
    "generate_cleaned_file = False\n",
    "\n",
    "if(generate_cleaned_file):\n",
    "  # Get all the date column\n",
    "  date_columns = list(filter(lambda x: validate_date(x), raw_df.columns.to_list()))\n",
    "\n",
    "  # Create new dataframe\n",
    "  year_list = []\n",
    "  month_list = []\n",
    "  day_list = []\n",
    "  zip_list = []\n",
    "  price_list = []\n",
    "  for date_column in date_columns:\n",
    "    print(date_column)\n",
    "    dt = datetime.datetime.strptime(date_column, '%Y-%m-%d')\n",
    "\n",
    "    for index, row in raw_df.iterrows():\n",
    "      year_list.append(dt.year)\n",
    "      month_list.append(dt.month)\n",
    "      day_list.append(dt.day)\n",
    "      zip_list.append(row['RegionName'])\n",
    "      price_list.append(row[date_column])\n",
    "\n",
    "  # Created cleaned dataframe\n",
    "  cleaned_df = pd.DataFrame({\n",
    "      'Year': year_list, \n",
    "      'Month': month_list, \n",
    "      'Day': day_list, \n",
    "      'Zip': zip_list, \n",
    "      'Price': price_list})\n",
    "\n",
    "  # Export to output file\n",
    "  cleaned_df.to_csv( './data/cleaned_data.csv', index=False)"
   ]
  },
  {
   "cell_type": "code",
   "execution_count": 6,
   "metadata": {
    "colab": {
     "base_uri": "https://localhost:8080/"
    },
    "executionInfo": {
     "elapsed": 5,
     "status": "ok",
     "timestamp": 1676048491072,
     "user": {
      "displayName": "Anjan Shrestha",
      "userId": "00071547376953792820"
     },
     "user_tz": 300
    },
    "id": "nF6qyJlMuXtV",
    "outputId": "72732eef-12e0-4b67-c60a-6df5b0a847cd"
   },
   "outputs": [
    {
     "data": {
      "text/plain": [
       "(9182, 285)"
      ]
     },
     "execution_count": 6,
     "metadata": {},
     "output_type": "execute_result"
    }
   ],
   "source": [
    "raw_df.shape"
   ]
  },
  {
   "cell_type": "code",
   "execution_count": 7,
   "metadata": {
    "executionInfo": {
     "elapsed": 2655,
     "status": "ok",
     "timestamp": 1676048493724,
     "user": {
      "displayName": "Anjan Shrestha",
      "userId": "00071547376953792820"
     },
     "user_tz": 300
    },
    "id": "Pwm1UR2tBgIP"
   },
   "outputs": [],
   "source": [
    "cleaned_df = pd.read_csv('./data/cleaned_data.csv')"
   ]
  },
  {
   "cell_type": "code",
   "execution_count": 8,
   "metadata": {
    "colab": {
     "base_uri": "https://localhost:8080/"
    },
    "executionInfo": {
     "elapsed": 20,
     "status": "ok",
     "timestamp": 1676048493724,
     "user": {
      "displayName": "Anjan Shrestha",
      "userId": "00071547376953792820"
     },
     "user_tz": 300
    },
    "id": "2t-f1KTP5GSJ",
    "outputId": "4853e7ce-b1b6-422a-bbd1-fc99353be4d4"
   },
   "outputs": [
    {
     "data": {
      "text/plain": [
       "(2534232, 5)"
      ]
     },
     "execution_count": 8,
     "metadata": {},
     "output_type": "execute_result"
    }
   ],
   "source": [
    "cleaned_df.shape"
   ]
  },
  {
   "cell_type": "code",
   "execution_count": 9,
   "metadata": {
    "colab": {
     "base_uri": "https://localhost:8080/",
     "height": 206
    },
    "executionInfo": {
     "elapsed": 19,
     "status": "ok",
     "timestamp": 1676048493725,
     "user": {
      "displayName": "Anjan Shrestha",
      "userId": "00071547376953792820"
     },
     "user_tz": 300
    },
    "id": "6EpI4hPzCoyT",
    "outputId": "f6f79081-ac6a-4752-8260-841f6d55dbfa"
   },
   "outputs": [
    {
     "data": {
      "text/html": [
       "<div>\n",
       "<style scoped>\n",
       "    .dataframe tbody tr th:only-of-type {\n",
       "        vertical-align: middle;\n",
       "    }\n",
       "\n",
       "    .dataframe tbody tr th {\n",
       "        vertical-align: top;\n",
       "    }\n",
       "\n",
       "    .dataframe thead th {\n",
       "        text-align: right;\n",
       "    }\n",
       "</style>\n",
       "<table border=\"1\" class=\"dataframe\">\n",
       "  <thead>\n",
       "    <tr style=\"text-align: right;\">\n",
       "      <th></th>\n",
       "      <th>Year</th>\n",
       "      <th>Month</th>\n",
       "      <th>Day</th>\n",
       "      <th>Zip</th>\n",
       "      <th>Price</th>\n",
       "    </tr>\n",
       "  </thead>\n",
       "  <tbody>\n",
       "    <tr>\n",
       "      <th>0</th>\n",
       "      <td>2000</td>\n",
       "      <td>1</td>\n",
       "      <td>31</td>\n",
       "      <td>79936</td>\n",
       "      <td>90334.0</td>\n",
       "    </tr>\n",
       "    <tr>\n",
       "      <th>1</th>\n",
       "      <td>2000</td>\n",
       "      <td>1</td>\n",
       "      <td>31</td>\n",
       "      <td>11385</td>\n",
       "      <td>284469.0</td>\n",
       "    </tr>\n",
       "    <tr>\n",
       "      <th>2</th>\n",
       "      <td>2000</td>\n",
       "      <td>1</td>\n",
       "      <td>31</td>\n",
       "      <td>60629</td>\n",
       "      <td>131669.0</td>\n",
       "    </tr>\n",
       "    <tr>\n",
       "      <th>3</th>\n",
       "      <td>2000</td>\n",
       "      <td>1</td>\n",
       "      <td>31</td>\n",
       "      <td>77084</td>\n",
       "      <td>105893.0</td>\n",
       "    </tr>\n",
       "    <tr>\n",
       "      <th>4</th>\n",
       "      <td>2000</td>\n",
       "      <td>1</td>\n",
       "      <td>31</td>\n",
       "      <td>91331</td>\n",
       "      <td>147898.0</td>\n",
       "    </tr>\n",
       "  </tbody>\n",
       "</table>\n",
       "</div>"
      ],
      "text/plain": [
       "   Year  Month  Day    Zip     Price\n",
       "0  2000      1   31  79936   90334.0\n",
       "1  2000      1   31  11385  284469.0\n",
       "2  2000      1   31  60629  131669.0\n",
       "3  2000      1   31  77084  105893.0\n",
       "4  2000      1   31  91331  147898.0"
      ]
     },
     "execution_count": 9,
     "metadata": {},
     "output_type": "execute_result"
    }
   ],
   "source": [
    "cleaned_df.head(5)"
   ]
  },
  {
   "cell_type": "markdown",
   "metadata": {},
   "source": [
    "## 3. Exploratory Data Analysis"
   ]
  },
  {
   "cell_type": "code",
   "execution_count": 10,
   "metadata": {
    "colab": {
     "base_uri": "https://localhost:8080/",
     "height": 609
    },
    "executionInfo": {
     "elapsed": 1052,
     "status": "ok",
     "timestamp": 1676048494759,
     "user": {
      "displayName": "Anjan Shrestha",
      "userId": "00071547376953792820"
     },
     "user_tz": 300
    },
    "id": "chm4aaBVCkuA",
    "outputId": "9f624e65-b4bb-4ee3-ee96-1cd592e497d5"
   },
   "outputs": [
    {
     "data": {
      "image/png": "[encoded data removed]",
      "text/plain": [
       "<Figure size 1008x648 with 1 Axes>"
      ]
     },
     "metadata": {
      "needs_background": "light"
     },
     "output_type": "display_data"
    }
   ],
   "source": [
    "df_75068 = cleaned_df[cleaned_df['Zip'] == 75068]\n",
    "\n",
    "x = df_75068['Year'].astype(str) + '-' + df_75068['Month'].astype(str) + '-' + df_75068['Day'].astype(str)\n",
    "y = df_75068['Price']\n",
    "\n",
    "plt.figure(figsize=(14, 9))\n",
    "plt.plot(x,y)\n",
    "plt.xticks([interval*12 for interval in range(23)], rotation='vertical')\n",
    "plt.xlabel('Year')\n",
    "plt.ylabel('House Price')\n",
    "plt.title('House Price in Zip Code 75068')\n",
    "plt.show()"
   ]
  },
  {
   "cell_type": "markdown",
   "metadata": {},
   "source": [
    "## 4. Encoding dataset ##"
   ]
  },
  {
   "cell_type": "code",
   "execution_count": 11,
   "metadata": {
    "colab": {
     "base_uri": "https://localhost:8080/",
     "height": 424
    },
    "executionInfo": {
     "elapsed": 548,
     "status": "ok",
     "timestamp": 1676048821452,
     "user": {
      "displayName": "Anjan Shrestha",
      "userId": "00071547376953792820"
     },
     "user_tz": 300
    },
    "id": "2qLR7PjEAWYJ",
    "outputId": "77b25a02-5ba4-44c2-fadd-46d3627c954a"
   },
   "outputs": [
    {
     "data": {
      "text/html": [
       "<div>\n",
       "<style scoped>\n",
       "    .dataframe tbody tr th:only-of-type {\n",
       "        vertical-align: middle;\n",
       "    }\n",
       "\n",
       "    .dataframe tbody tr th {\n",
       "        vertical-align: top;\n",
       "    }\n",
       "\n",
       "    .dataframe thead th {\n",
       "        text-align: right;\n",
       "    }\n",
       "</style>\n",
       "<table border=\"1\" class=\"dataframe\">\n",
       "  <thead>\n",
       "    <tr style=\"text-align: right;\">\n",
       "      <th></th>\n",
       "      <th>Year</th>\n",
       "      <th>Month</th>\n",
       "      <th>Day</th>\n",
       "      <th>Zip</th>\n",
       "      <th>Price</th>\n",
       "    </tr>\n",
       "  </thead>\n",
       "  <tbody>\n",
       "    <tr>\n",
       "      <th>0</th>\n",
       "      <td>2000</td>\n",
       "      <td>1</td>\n",
       "      <td>31</td>\n",
       "      <td>7236</td>\n",
       "      <td>90334.0</td>\n",
       "    </tr>\n",
       "    <tr>\n",
       "      <th>1</th>\n",
       "      <td>2000</td>\n",
       "      <td>1</td>\n",
       "      <td>31</td>\n",
       "      <td>1422</td>\n",
       "      <td>284469.0</td>\n",
       "    </tr>\n",
       "    <tr>\n",
       "      <th>2</th>\n",
       "      <td>2000</td>\n",
       "      <td>1</td>\n",
       "      <td>31</td>\n",
       "      <td>6248</td>\n",
       "      <td>131669.0</td>\n",
       "    </tr>\n",
       "    <tr>\n",
       "      <th>3</th>\n",
       "      <td>2000</td>\n",
       "      <td>1</td>\n",
       "      <td>31</td>\n",
       "      <td>7025</td>\n",
       "      <td>105893.0</td>\n",
       "    </tr>\n",
       "    <tr>\n",
       "      <th>4</th>\n",
       "      <td>2000</td>\n",
       "      <td>1</td>\n",
       "      <td>31</td>\n",
       "      <td>7927</td>\n",
       "      <td>147898.0</td>\n",
       "    </tr>\n",
       "    <tr>\n",
       "      <th>...</th>\n",
       "      <td>...</td>\n",
       "      <td>...</td>\n",
       "      <td>...</td>\n",
       "      <td>...</td>\n",
       "      <td>...</td>\n",
       "    </tr>\n",
       "    <tr>\n",
       "      <th>2534227</th>\n",
       "      <td>2022</td>\n",
       "      <td>12</td>\n",
       "      <td>31</td>\n",
       "      <td>7323</td>\n",
       "      <td>605741.0</td>\n",
       "    </tr>\n",
       "    <tr>\n",
       "      <th>2534228</th>\n",
       "      <td>2022</td>\n",
       "      <td>12</td>\n",
       "      <td>31</td>\n",
       "      <td>371</td>\n",
       "      <td>534176.0</td>\n",
       "    </tr>\n",
       "    <tr>\n",
       "      <th>2534229</th>\n",
       "      <td>2022</td>\n",
       "      <td>12</td>\n",
       "      <td>31</td>\n",
       "      <td>7596</td>\n",
       "      <td>254301.0</td>\n",
       "    </tr>\n",
       "    <tr>\n",
       "      <th>2534230</th>\n",
       "      <td>2022</td>\n",
       "      <td>12</td>\n",
       "      <td>31</td>\n",
       "      <td>2094</td>\n",
       "      <td>185200.0</td>\n",
       "    </tr>\n",
       "    <tr>\n",
       "      <th>2534231</th>\n",
       "      <td>2022</td>\n",
       "      <td>12</td>\n",
       "      <td>31</td>\n",
       "      <td>6727</td>\n",
       "      <td>97800.0</td>\n",
       "    </tr>\n",
       "  </tbody>\n",
       "</table>\n",
       "<p>2534232 rows × 5 columns</p>\n",
       "</div>"
      ],
      "text/plain": [
       "         Year  Month  Day   Zip     Price\n",
       "0        2000      1   31  7236   90334.0\n",
       "1        2000      1   31  1422  284469.0\n",
       "2        2000      1   31  6248  131669.0\n",
       "3        2000      1   31  7025  105893.0\n",
       "4        2000      1   31  7927  147898.0\n",
       "...       ...    ...  ...   ...       ...\n",
       "2534227  2022     12   31  7323  605741.0\n",
       "2534228  2022     12   31   371  534176.0\n",
       "2534229  2022     12   31  7596  254301.0\n",
       "2534230  2022     12   31  2094  185200.0\n",
       "2534231  2022     12   31  6727   97800.0\n",
       "\n",
       "[2534232 rows x 5 columns]"
      ]
     },
     "execution_count": 11,
     "metadata": {},
     "output_type": "execute_result"
    }
   ],
   "source": [
    "# Encode Zip Column\n",
    "zip_encoder = preprocessing.LabelEncoder()\n",
    "model_df = cleaned_df.copy()\n",
    "model_df['Zip']= zip_encoder.fit_transform(cleaned_df['Zip'])\n",
    "model_df"
   ]
  },
  {
   "cell_type": "code",
   "execution_count": 12,
   "metadata": {
    "colab": {
     "base_uri": "https://localhost:8080/",
     "height": 424
    },
    "executionInfo": {
     "elapsed": 548,
     "status": "ok",
     "timestamp": 1676048821452,
     "user": {
      "displayName": "Anjan Shrestha",
      "userId": "00071547376953792820"
     },
     "user_tz": 300
    },
    "id": "2qLR7PjEAWYJ",
    "outputId": "77b25a02-5ba4-44c2-fadd-46d3627c954a"
   },
   "outputs": [
    {
     "data": {
      "text/html": [
       "<div>\n",
       "<style scoped>\n",
       "    .dataframe tbody tr th:only-of-type {\n",
       "        vertical-align: middle;\n",
       "    }\n",
       "\n",
       "    .dataframe tbody tr th {\n",
       "        vertical-align: top;\n",
       "    }\n",
       "\n",
       "    .dataframe thead th {\n",
       "        text-align: right;\n",
       "    }\n",
       "</style>\n",
       "<table border=\"1\" class=\"dataframe\">\n",
       "  <thead>\n",
       "    <tr style=\"text-align: right;\">\n",
       "      <th></th>\n",
       "      <th>Year</th>\n",
       "      <th>Month</th>\n",
       "      <th>Day</th>\n",
       "      <th>Zip</th>\n",
       "      <th>Price</th>\n",
       "    </tr>\n",
       "  </thead>\n",
       "  <tbody>\n",
       "    <tr>\n",
       "      <th>0</th>\n",
       "      <td>2000</td>\n",
       "      <td>1</td>\n",
       "      <td>31</td>\n",
       "      <td>7236</td>\n",
       "      <td>90334.0</td>\n",
       "    </tr>\n",
       "    <tr>\n",
       "      <th>1</th>\n",
       "      <td>2000</td>\n",
       "      <td>1</td>\n",
       "      <td>31</td>\n",
       "      <td>1422</td>\n",
       "      <td>284469.0</td>\n",
       "    </tr>\n",
       "    <tr>\n",
       "      <th>2</th>\n",
       "      <td>2000</td>\n",
       "      <td>1</td>\n",
       "      <td>31</td>\n",
       "      <td>6248</td>\n",
       "      <td>131669.0</td>\n",
       "    </tr>\n",
       "    <tr>\n",
       "      <th>3</th>\n",
       "      <td>2000</td>\n",
       "      <td>1</td>\n",
       "      <td>31</td>\n",
       "      <td>7025</td>\n",
       "      <td>105893.0</td>\n",
       "    </tr>\n",
       "    <tr>\n",
       "      <th>4</th>\n",
       "      <td>2000</td>\n",
       "      <td>1</td>\n",
       "      <td>31</td>\n",
       "      <td>7927</td>\n",
       "      <td>147898.0</td>\n",
       "    </tr>\n",
       "    <tr>\n",
       "      <th>...</th>\n",
       "      <td>...</td>\n",
       "      <td>...</td>\n",
       "      <td>...</td>\n",
       "      <td>...</td>\n",
       "      <td>...</td>\n",
       "    </tr>\n",
       "    <tr>\n",
       "      <th>2534227</th>\n",
       "      <td>2022</td>\n",
       "      <td>12</td>\n",
       "      <td>31</td>\n",
       "      <td>7323</td>\n",
       "      <td>605741.0</td>\n",
       "    </tr>\n",
       "    <tr>\n",
       "      <th>2534228</th>\n",
       "      <td>2022</td>\n",
       "      <td>12</td>\n",
       "      <td>31</td>\n",
       "      <td>371</td>\n",
       "      <td>534176.0</td>\n",
       "    </tr>\n",
       "    <tr>\n",
       "      <th>2534229</th>\n",
       "      <td>2022</td>\n",
       "      <td>12</td>\n",
       "      <td>31</td>\n",
       "      <td>7596</td>\n",
       "      <td>254301.0</td>\n",
       "    </tr>\n",
       "    <tr>\n",
       "      <th>2534230</th>\n",
       "      <td>2022</td>\n",
       "      <td>12</td>\n",
       "      <td>31</td>\n",
       "      <td>2094</td>\n",
       "      <td>185200.0</td>\n",
       "    </tr>\n",
       "    <tr>\n",
       "      <th>2534231</th>\n",
       "      <td>2022</td>\n",
       "      <td>12</td>\n",
       "      <td>31</td>\n",
       "      <td>6727</td>\n",
       "      <td>97800.0</td>\n",
       "    </tr>\n",
       "  </tbody>\n",
       "</table>\n",
       "<p>2534232 rows × 5 columns</p>\n",
       "</div>"
      ],
      "text/plain": [
       "         Year  Month  Day   Zip     Price\n",
       "0        2000      1   31  7236   90334.0\n",
       "1        2000      1   31  1422  284469.0\n",
       "2        2000      1   31  6248  131669.0\n",
       "3        2000      1   31  7025  105893.0\n",
       "4        2000      1   31  7927  147898.0\n",
       "...       ...    ...  ...   ...       ...\n",
       "2534227  2022     12   31  7323  605741.0\n",
       "2534228  2022     12   31   371  534176.0\n",
       "2534229  2022     12   31  7596  254301.0\n",
       "2534230  2022     12   31  2094  185200.0\n",
       "2534231  2022     12   31  6727   97800.0\n",
       "\n",
       "[2534232 rows x 5 columns]"
      ]
     },
     "execution_count": 12,
     "metadata": {},
     "output_type": "execute_result"
    }
   ],
   "source": [
    "# Encode Zip Column\n",
    "zip_encoder = preprocessing.LabelEncoder()\n",
    "model_df = cleaned_df.copy()\n",
    "model_df['Zip']= zip_encoder.fit_transform(cleaned_df['Zip'])\n",
    "model_df"
   ]
  },
  {
   "cell_type": "markdown",
   "metadata": {},
   "source": [
    "## 5. Split Data into Train and Test ##"
   ]
  },
  {
   "cell_type": "code",
   "execution_count": 13,
   "metadata": {
    "executionInfo": {
     "elapsed": 3,
     "status": "ok",
     "timestamp": 1676048831638,
     "user": {
      "displayName": "Anjan Shrestha",
      "userId": "00071547376953792820"
     },
     "user_tz": 300
    },
    "id": "iX4VOr_sCmZi"
   },
   "outputs": [],
   "source": [
    "train_index = 0.8 * cleaned_df.shape[0]\n",
    "train_data = cleaned_df[:int(train_index)]\n",
    "test_data = cleaned_df[int(train_index):]\n",
    "\n",
    "X_train = train_data.drop('Price', axis=1)\n",
    "y_train = train_data['Price']\n",
    "X_test = test_data.drop('Price', axis=1)\n",
    "y_test = test_data['Price']"
   ]
  },
  {
   "cell_type": "code",
   "execution_count": 14,
   "metadata": {
    "colab": {
     "base_uri": "https://localhost:8080/",
     "height": 424
    },
    "executionInfo": {
     "elapsed": 151,
     "status": "ok",
     "timestamp": 1676048832631,
     "user": {
      "displayName": "Anjan Shrestha",
      "userId": "00071547376953792820"
     },
     "user_tz": 300
    },
    "id": "qWVUzXHwMtbc",
    "outputId": "419fe3c4-921c-4100-cfaa-20bdf1783d32"
   },
   "outputs": [
    {
     "data": {
      "text/html": [
       "<div>\n",
       "<style scoped>\n",
       "    .dataframe tbody tr th:only-of-type {\n",
       "        vertical-align: middle;\n",
       "    }\n",
       "\n",
       "    .dataframe tbody tr th {\n",
       "        vertical-align: top;\n",
       "    }\n",
       "\n",
       "    .dataframe thead th {\n",
       "        text-align: right;\n",
       "    }\n",
       "</style>\n",
       "<table border=\"1\" class=\"dataframe\">\n",
       "  <thead>\n",
       "    <tr style=\"text-align: right;\">\n",
       "      <th></th>\n",
       "      <th>Year</th>\n",
       "      <th>Month</th>\n",
       "      <th>Day</th>\n",
       "      <th>Zip</th>\n",
       "    </tr>\n",
       "  </thead>\n",
       "  <tbody>\n",
       "    <tr>\n",
       "      <th>0</th>\n",
       "      <td>2000</td>\n",
       "      <td>1</td>\n",
       "      <td>31</td>\n",
       "      <td>79936</td>\n",
       "    </tr>\n",
       "    <tr>\n",
       "      <th>1</th>\n",
       "      <td>2000</td>\n",
       "      <td>1</td>\n",
       "      <td>31</td>\n",
       "      <td>11385</td>\n",
       "    </tr>\n",
       "    <tr>\n",
       "      <th>2</th>\n",
       "      <td>2000</td>\n",
       "      <td>1</td>\n",
       "      <td>31</td>\n",
       "      <td>60629</td>\n",
       "    </tr>\n",
       "    <tr>\n",
       "      <th>3</th>\n",
       "      <td>2000</td>\n",
       "      <td>1</td>\n",
       "      <td>31</td>\n",
       "      <td>77084</td>\n",
       "    </tr>\n",
       "    <tr>\n",
       "      <th>4</th>\n",
       "      <td>2000</td>\n",
       "      <td>1</td>\n",
       "      <td>31</td>\n",
       "      <td>91331</td>\n",
       "    </tr>\n",
       "    <tr>\n",
       "      <th>...</th>\n",
       "      <td>...</td>\n",
       "      <td>...</td>\n",
       "      <td>...</td>\n",
       "      <td>...</td>\n",
       "    </tr>\n",
       "    <tr>\n",
       "      <th>2027380</th>\n",
       "      <td>2018</td>\n",
       "      <td>5</td>\n",
       "      <td>31</td>\n",
       "      <td>73141</td>\n",
       "    </tr>\n",
       "    <tr>\n",
       "      <th>2027381</th>\n",
       "      <td>2018</td>\n",
       "      <td>5</td>\n",
       "      <td>31</td>\n",
       "      <td>95633</td>\n",
       "    </tr>\n",
       "    <tr>\n",
       "      <th>2027382</th>\n",
       "      <td>2018</td>\n",
       "      <td>5</td>\n",
       "      <td>31</td>\n",
       "      <td>42378</td>\n",
       "    </tr>\n",
       "    <tr>\n",
       "      <th>2027383</th>\n",
       "      <td>2018</td>\n",
       "      <td>5</td>\n",
       "      <td>31</td>\n",
       "      <td>44626</td>\n",
       "    </tr>\n",
       "    <tr>\n",
       "      <th>2027384</th>\n",
       "      <td>2018</td>\n",
       "      <td>5</td>\n",
       "      <td>31</td>\n",
       "      <td>20764</td>\n",
       "    </tr>\n",
       "  </tbody>\n",
       "</table>\n",
       "<p>2027385 rows × 4 columns</p>\n",
       "</div>"
      ],
      "text/plain": [
       "         Year  Month  Day    Zip\n",
       "0        2000      1   31  79936\n",
       "1        2000      1   31  11385\n",
       "2        2000      1   31  60629\n",
       "3        2000      1   31  77084\n",
       "4        2000      1   31  91331\n",
       "...       ...    ...  ...    ...\n",
       "2027380  2018      5   31  73141\n",
       "2027381  2018      5   31  95633\n",
       "2027382  2018      5   31  42378\n",
       "2027383  2018      5   31  44626\n",
       "2027384  2018      5   31  20764\n",
       "\n",
       "[2027385 rows x 4 columns]"
      ]
     },
     "execution_count": 14,
     "metadata": {},
     "output_type": "execute_result"
    }
   ],
   "source": [
    "X_train"
   ]
  },
  {
   "cell_type": "code",
   "execution_count": 15,
   "metadata": {
    "colab": {
     "base_uri": "https://localhost:8080/",
     "height": 424
    },
    "executionInfo": {
     "elapsed": 4,
     "status": "ok",
     "timestamp": 1676048837515,
     "user": {
      "displayName": "Anjan Shrestha",
      "userId": "00071547376953792820"
     },
     "user_tz": 300
    },
    "id": "dX-vRr1bH6cP",
    "outputId": "c6569d86-8b52-49f6-f4d5-e36aa26c8e5e"
   },
   "outputs": [
    {
     "data": {
      "text/html": [
       "<div>\n",
       "<style scoped>\n",
       "    .dataframe tbody tr th:only-of-type {\n",
       "        vertical-align: middle;\n",
       "    }\n",
       "\n",
       "    .dataframe tbody tr th {\n",
       "        vertical-align: top;\n",
       "    }\n",
       "\n",
       "    .dataframe thead th {\n",
       "        text-align: right;\n",
       "    }\n",
       "</style>\n",
       "<table border=\"1\" class=\"dataframe\">\n",
       "  <thead>\n",
       "    <tr style=\"text-align: right;\">\n",
       "      <th></th>\n",
       "      <th>Year</th>\n",
       "      <th>Month</th>\n",
       "      <th>Day</th>\n",
       "      <th>Zip</th>\n",
       "    </tr>\n",
       "  </thead>\n",
       "  <tbody>\n",
       "    <tr>\n",
       "      <th>2027385</th>\n",
       "      <td>2018</td>\n",
       "      <td>5</td>\n",
       "      <td>31</td>\n",
       "      <td>7803</td>\n",
       "    </tr>\n",
       "    <tr>\n",
       "      <th>2027386</th>\n",
       "      <td>2018</td>\n",
       "      <td>5</td>\n",
       "      <td>31</td>\n",
       "      <td>14125</td>\n",
       "    </tr>\n",
       "    <tr>\n",
       "      <th>2027387</th>\n",
       "      <td>2018</td>\n",
       "      <td>5</td>\n",
       "      <td>31</td>\n",
       "      <td>14719</td>\n",
       "    </tr>\n",
       "    <tr>\n",
       "      <th>2027388</th>\n",
       "      <td>2018</td>\n",
       "      <td>5</td>\n",
       "      <td>31</td>\n",
       "      <td>31765</td>\n",
       "    </tr>\n",
       "    <tr>\n",
       "      <th>2027389</th>\n",
       "      <td>2018</td>\n",
       "      <td>5</td>\n",
       "      <td>31</td>\n",
       "      <td>33306</td>\n",
       "    </tr>\n",
       "    <tr>\n",
       "      <th>...</th>\n",
       "      <td>...</td>\n",
       "      <td>...</td>\n",
       "      <td>...</td>\n",
       "      <td>...</td>\n",
       "    </tr>\n",
       "    <tr>\n",
       "      <th>2534227</th>\n",
       "      <td>2022</td>\n",
       "      <td>12</td>\n",
       "      <td>31</td>\n",
       "      <td>80453</td>\n",
       "    </tr>\n",
       "    <tr>\n",
       "      <th>2534228</th>\n",
       "      <td>2022</td>\n",
       "      <td>12</td>\n",
       "      <td>31</td>\n",
       "      <td>2722</td>\n",
       "    </tr>\n",
       "    <tr>\n",
       "      <th>2534229</th>\n",
       "      <td>2022</td>\n",
       "      <td>12</td>\n",
       "      <td>31</td>\n",
       "      <td>85362</td>\n",
       "    </tr>\n",
       "    <tr>\n",
       "      <th>2534230</th>\n",
       "      <td>2022</td>\n",
       "      <td>12</td>\n",
       "      <td>31</td>\n",
       "      <td>14592</td>\n",
       "    </tr>\n",
       "    <tr>\n",
       "      <th>2534231</th>\n",
       "      <td>2022</td>\n",
       "      <td>12</td>\n",
       "      <td>31</td>\n",
       "      <td>73491</td>\n",
       "    </tr>\n",
       "  </tbody>\n",
       "</table>\n",
       "<p>506847 rows × 4 columns</p>\n",
       "</div>"
      ],
      "text/plain": [
       "         Year  Month  Day    Zip\n",
       "2027385  2018      5   31   7803\n",
       "2027386  2018      5   31  14125\n",
       "2027387  2018      5   31  14719\n",
       "2027388  2018      5   31  31765\n",
       "2027389  2018      5   31  33306\n",
       "...       ...    ...  ...    ...\n",
       "2534227  2022     12   31  80453\n",
       "2534228  2022     12   31   2722\n",
       "2534229  2022     12   31  85362\n",
       "2534230  2022     12   31  14592\n",
       "2534231  2022     12   31  73491\n",
       "\n",
       "[506847 rows x 4 columns]"
      ]
     },
     "execution_count": 15,
     "metadata": {},
     "output_type": "execute_result"
    }
   ],
   "source": [
    "X_test"
   ]
  },
  {
   "cell_type": "markdown",
   "metadata": {},
   "source": [
    "## 6. Training the model"
   ]
  },
  {
   "cell_type": "code",
   "execution_count": 16,
   "metadata": {
    "executionInfo": {
     "elapsed": 348,
     "status": "ok",
     "timestamp": 1676048838502,
     "user": {
      "displayName": "Anjan Shrestha",
      "userId": "00071547376953792820"
     },
     "user_tz": 300
    },
    "id": "ASHXPih7L2S-"
   },
   "outputs": [
    {
     "data": {
      "text/plain": [
       "LinearRegression()"
      ]
     },
     "execution_count": 16,
     "metadata": {},
     "output_type": "execute_result"
    }
   ],
   "source": [
    "model = LinearRegression()\n",
    "model.fit(X_train.values, y_train.values)"
   ]
  },
  {
   "cell_type": "markdown",
   "metadata": {},
   "source": [
    "## 7. Evaluating the model"
   ]
  },
  {
   "cell_type": "code",
   "execution_count": 17,
   "metadata": {
    "executionInfo": {
     "elapsed": 348,
     "status": "ok",
     "timestamp": 1676048838502,
     "user": {
      "displayName": "Anjan Shrestha",
      "userId": "00071547376953792820"
     },
     "user_tz": 300
    },
    "id": "ASHXPih7L2S-"
   },
   "outputs": [],
   "source": [
    "rmse = math.sqrt(mean_squared_error(model.predict(X_test.values), y_test.values))"
   ]
  },
  {
   "cell_type": "code",
   "execution_count": 18,
   "metadata": {
    "colab": {
     "base_uri": "https://localhost:8080/"
    },
    "executionInfo": {
     "elapsed": 172,
     "status": "ok",
     "timestamp": 1676048839489,
     "user": {
      "displayName": "Anjan Shrestha",
      "userId": "00071547376953792820"
     },
     "user_tz": 300
    },
    "id": "aVQeqecqMoGP",
    "outputId": "6a3259c7-4250-441d-fa19-84c2ad65672c"
   },
   "outputs": [
    {
     "data": {
      "text/plain": [
       "414380.0050059409"
      ]
     },
     "execution_count": 18,
     "metadata": {},
     "output_type": "execute_result"
    }
   ],
   "source": [
    "rmse"
   ]
  },
  {
   "cell_type": "code",
   "execution_count": 19,
   "metadata": {
    "colab": {
     "base_uri": "https://localhost:8080/"
    },
    "executionInfo": {
     "elapsed": 177,
     "status": "ok",
     "timestamp": 1676048841340,
     "user": {
      "displayName": "Anjan Shrestha",
      "userId": "00071547376953792820"
     },
     "user_tz": 300
    },
    "id": "-I7Q2-7eI00-",
    "outputId": "b1f196f9-9121-40e5-d462-36cbb98378e3"
   },
   "outputs": [
    {
     "data": {
      "text/plain": [
       "0.04333641273126498"
      ]
     },
     "execution_count": 19,
     "metadata": {},
     "output_type": "execute_result"
    }
   ],
   "source": [
    "# https://www.statology.org/what-is-a-good-rmse/#:~:text=This%20produces%20a%20value%20between,(%24300%2C000%20%E2%80%93%20%2470%2C000)%20%3D%200.002\n",
    "normalized_rmse = rmse / (y_test.max() - y_test.min())\n",
    "normalized_rmse"
   ]
  },
  {
   "cell_type": "markdown",
   "metadata": {},
   "source": [
    "## 8. Generating trained model to output file"
   ]
  },
  {
   "cell_type": "code",
   "execution_count": 20,
   "metadata": {
    "id": "ZLNFYAKtTEZl"
   },
   "outputs": [],
   "source": [
    "# Output to pickle file\n",
    "output = {\n",
    "    'trained_model': model,\n",
    "    'normalized_rmse': normalized_rmse,\n",
    "    'zip_encoder': zip_encoder,\n",
    "    'zipcode_list': cleaned_df['Zip'].unique()\n",
    "}\n",
    "\n",
    "with open('./output/output.pickle', 'wb') as f:\n",
    "    pickle.dump(output, f)\n",
    "    "
   ]
  }
 ],
 "metadata": {
  "colab": {
   "authorship_tag": "ABX9TyMfeduZ1ifzclCm1ewis/Lz",
   "provenance": []
  },
  "kernelspec": {
   "display_name": "Python 3 (ipykernel)",
   "language": "python",
   "name": "python3"
  },
  "language_info": {
   "codemirror_mode": {
    "name": "ipython",
    "version": 3
   },
   "file_extension": ".py",
   "mimetype": "text/x-python",
   "name": "python",
   "nbconvert_exporter": "python",
   "pygments_lexer": "ipython3",
   "version": "3.8.12"
  }
 },
 "nbformat": 4,
 "nbformat_minor": 1
}
